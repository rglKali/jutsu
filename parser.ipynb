{
 "cells": [
  {
   "cell_type": "code",
   "execution_count": 1,
   "metadata": {
    "collapsed": true
   },
   "outputs": [],
   "source": [
    "import requests\n",
    "from bs4 import BeautifulSoup\n",
    "import os"
   ]
  },
  {
   "cell_type": "code",
   "execution_count": 2,
   "outputs": [],
   "source": [
    "def get_data():\n",
    "    link = input('Введите ссылку с главной странички на jut.su нужного вам аниме - ')\n",
    "    headers = {'user-agent': 'Mozilla/5.0 (Windows NT 10.0; WOW64) AppleWebKit/537.36 (KHTML, like Gecko) Chrome/98.0.4758.109 Safari/537.36 OPR/84.0.4316.42 (Edition avira-2)'}\n",
    "    req = requests.get(link, headers=headers).text\n",
    "    soup = BeautifulSoup(req, 'lxml')\n",
    "    return soup"
   ],
   "metadata": {
    "collapsed": false,
    "pycharm": {
     "name": "#%%\n"
    }
   }
  },
  {
   "cell_type": "code",
   "execution_count": 3,
   "outputs": [],
   "source": [
    "def get_links(soup):\n",
    "\n",
    "    episodes = []\n",
    "    black = soup.find_all(class_='short-btn black video the_hildi')\n",
    "    green = soup.find_all(class_='short-btn green video the_hildi')\n",
    "    for i in black:\n",
    "        episodes.append(str(i))\n",
    "    for i in green:\n",
    "        episodes.append(str(i))\n",
    "\n",
    "    links = []\n",
    "    for i in episodes:\n",
    "        start = 0\n",
    "        finish = 0\n",
    "        for h in range(5, len(i)):\n",
    "            if i[h-4:h] == 'href':\n",
    "                start = h+3\n",
    "            if i[h-4:h] == 'html':\n",
    "                finish = h\n",
    "        link = 'https://jut.su/' + i[start:finish]\n",
    "        links.append(link)\n",
    "\n",
    "    season = soup.find_all(class_='b-b-title the-anime-season center')\n",
    "    name = soup.find_all('title')\n",
    "    if len(season) > 0:\n",
    "        title = str(name[0])[16:-37]\n",
    "    else:\n",
    "        title = str(name[0])[16:-28]\n",
    "\n",
    "    return title, links"
   ],
   "metadata": {
    "collapsed": false,
    "pycharm": {
     "name": "#%%\n"
    }
   }
  },
  {
   "cell_type": "code",
   "execution_count": 4,
   "outputs": [],
   "source": [
    "def create(links, title):\n",
    "    content = []\n",
    "    for i in links:\n",
    "        video = {\n",
    "            'title': title,\n",
    "            'season': 0,\n",
    "            'episode': 0,\n",
    "            'link': '',\n",
    "            'res': 1080\n",
    "        }\n",
    "        for h in range(5, len(i)):\n",
    "            if i[h-4:h] == 'film':\n",
    "                video['season'] = 0\n",
    "                video['episode'] = int(i[h+1])\n",
    "            if i[h-7:h] == 'episode' and i[h-9] == '-':\n",
    "                video['season'] = int(i[h-9])\n",
    "                x = ''\n",
    "                while x[-1] != '.':\n",
    "                    x += i[h] + i[h+len(x)]\n",
    "                video['episode'] = int(x[1:-1])\n",
    "            elif i[h-7:h] == 'episode' and i[h-9] != '-':\n",
    "                video['season'] = 1\n",
    "                x = i[h]\n",
    "                while x[-1] != '.':\n",
    "                    x += i[h+len(x)]\n",
    "                video['episode'] = int(x[1:-1])\n",
    "            video['link'] = i\n",
    "        content.append(video)\n",
    "    return content"
   ],
   "metadata": {
    "collapsed": false,
    "pycharm": {
     "name": "#%%\n"
    }
   }
  },
  {
   "cell_type": "code",
   "execution_count": 5,
   "outputs": [],
   "source": [
    "def ask_user(data, loadlist):\n",
    "    categories = []\n",
    "    for i in data:\n",
    "        if i['season'] not in categories:\n",
    "            categories.append(i['season'])\n",
    "    if 0 in categories:\n",
    "        file = input(f'''Какой сезон вы хотите скачать?\n",
    "        Для скачивания доступно {len(categories)-1} сезонов и\n",
    "        полнометражные фильмы (Сезон 0)\n",
    "        Введите номер нужного сезона\n",
    "        Чтобы скачать все сезоны сразу, введите 'all' (не рекомендуется)''')\n",
    "    else:\n",
    "        file = input(f'''Какой сезон вы хотите скачать?\n",
    "        Для скачивания доступно {len(categories)} сезонов\n",
    "        Введите номер нужного сезона\n",
    "        Чтобы скачать все сезоны сразу, введите 'all' (не рекомендуется)''')\n",
    "\n",
    "    if file == 'all':\n",
    "        for i in data:\n",
    "            if i not in loadlist:\n",
    "                loadlist.append(i)\n",
    "    else:\n",
    "        episodes = []\n",
    "        for i in data:\n",
    "            if i['season'] == int(file):\n",
    "                episodes.append(i)\n",
    "        file = input(f'''Какую серию вы хотите скачать?\n",
    "        Для скачивания доступно {len(episodes)} серий\n",
    "        Введите номер нужной серии\n",
    "        Чтобы скачать все серии сразу, введите 'all' (не рекомендуется)''')\n",
    "        if file == 'all':\n",
    "            for i in episodes:\n",
    "                if i not in loadlist:\n",
    "                    loadlist.append(i)\n",
    "        else:\n",
    "            for i in episodes:\n",
    "                if i['episode'] == int(file) and i not in loadlist:\n",
    "                    loadlist.append(i)\n",
    "    re = input('''Хотите скачать что-либо ещё? (+/-)''')\n",
    "    if re == '+':\n",
    "        main(loadlist)\n",
    "    elif re == '-':\n",
    "        return loadlist\n",
    "    else:\n",
    "        print('Error')"
   ],
   "metadata": {
    "collapsed": false,
    "pycharm": {
     "name": "#%%\n"
    }
   }
  },
  {
   "cell_type": "code",
   "execution_count": 6,
   "outputs": [],
   "source": [
    "def load(loadlist):\n",
    "    for i in loadlist:\n",
    "        headers = {'user-agent': 'Mozilla/5.0 (Windows NT 10.0; WOW64) AppleWebKit/537.36 (KHTML, like Gecko) Chrome/98.0.4758.109 Safari/537.36 OPR/84.0.4316.42 (Edition avira-2)'}\n",
    "        req = requests.get(i['link'], headers=headers).text\n",
    "        soup = BeautifulSoup(req, 'lxml')\n",
    "        direct = str(soup.find('source'))[48:-20]\n",
    "\n",
    "        if not os.path.exists(f'./{i[\"title\"]}'):\n",
    "            os.mkdir(f'./{i[\"title\"]}')\n",
    "        if not os.path.exists(f'./{i[\"title\"]}/Сезон {i[\"season\"]}'):\n",
    "            os.mkdir(f'./{i[\"title\"]}/Сезон {i[\"season\"]}')\n",
    "\n",
    "        if not os.path.exists(f'{i[\"title\"]}/Сезон {i[\"season\"]}/Серия {i[\"episode\"]}.mp4'):\n",
    "            r = requests.get(direct, headers=headers)\n",
    "            open(f'{i[\"title\"]}/Сезон {i[\"season\"]}/Серия {i[\"episode\"]}.mp4', 'wb').write(r.content)\n",
    "            print(f'Файл \"{i[\"title\"]}, Сезон {i[\"season\"]}, Серия {i[\"episode\"]}\" успешно загружен. Осталось загрузить {len(loadlist) - loadlist.index(i) - 1} файлов из {len(loadlist)}')\n",
    "        else:\n",
    "            print(f'Файл \"{i[\"title\"]}, Сезон {i[\"season\"]}, Серия {i[\"episode\"]}\" и так был загружен. Осталось загрузить {len(loadlist) - loadlist.index(i) - 1} файлов из {len(loadlist)}')"
   ],
   "metadata": {
    "collapsed": false,
    "pycharm": {
     "name": "#%%\n"
    }
   }
  },
  {
   "cell_type": "code",
   "execution_count": 7,
   "outputs": [
    {
     "ename": "MissingSchema",
     "evalue": "Invalid URL '': No scheme supplied. Perhaps you meant http://?",
     "output_type": "error",
     "traceback": [
      "\u001B[1;31m---------------------------------------------------------------------------\u001B[0m",
      "\u001B[1;31mMissingSchema\u001B[0m                             Traceback (most recent call last)",
      "Input \u001B[1;32mIn [7]\u001B[0m, in \u001B[0;36m<cell line: 9>\u001B[1;34m()\u001B[0m\n\u001B[0;32m      9\u001B[0m \u001B[38;5;28;01mif\u001B[39;00m \u001B[38;5;18m__name__\u001B[39m \u001B[38;5;241m==\u001B[39m \u001B[38;5;124m'\u001B[39m\u001B[38;5;124m__main__\u001B[39m\u001B[38;5;124m'\u001B[39m:\n\u001B[0;32m     10\u001B[0m     loadlist \u001B[38;5;241m=\u001B[39m []\n\u001B[1;32m---> 11\u001B[0m     \u001B[43mmain\u001B[49m\u001B[43m(\u001B[49m\u001B[43mloadlist\u001B[49m\u001B[43m)\u001B[49m\n",
      "Input \u001B[1;32mIn [7]\u001B[0m, in \u001B[0;36mmain\u001B[1;34m(loadlist)\u001B[0m\n\u001B[0;32m      1\u001B[0m \u001B[38;5;28;01mdef\u001B[39;00m \u001B[38;5;21mmain\u001B[39m(loadlist):\n\u001B[1;32m----> 2\u001B[0m     soup \u001B[38;5;241m=\u001B[39m \u001B[43mget_data\u001B[49m\u001B[43m(\u001B[49m\u001B[43m)\u001B[49m\n\u001B[0;32m      3\u001B[0m     title, links \u001B[38;5;241m=\u001B[39m get_links(soup)\n\u001B[0;32m      4\u001B[0m     data \u001B[38;5;241m=\u001B[39m create(links, title)\n",
      "Input \u001B[1;32mIn [2]\u001B[0m, in \u001B[0;36mget_data\u001B[1;34m()\u001B[0m\n\u001B[0;32m      2\u001B[0m link \u001B[38;5;241m=\u001B[39m \u001B[38;5;28minput\u001B[39m(\u001B[38;5;124m'\u001B[39m\u001B[38;5;124mВведите ссылку с главной странички на jut.su нужного вам аниме - \u001B[39m\u001B[38;5;124m'\u001B[39m)\n\u001B[0;32m      3\u001B[0m headers \u001B[38;5;241m=\u001B[39m {\u001B[38;5;124m'\u001B[39m\u001B[38;5;124muser-agent\u001B[39m\u001B[38;5;124m'\u001B[39m: \u001B[38;5;124m'\u001B[39m\u001B[38;5;124mMozilla/5.0 (Windows NT 10.0; WOW64) AppleWebKit/537.36 (KHTML, like Gecko) Chrome/98.0.4758.109 Safari/537.36 OPR/84.0.4316.42 (Edition avira-2)\u001B[39m\u001B[38;5;124m'\u001B[39m}\n\u001B[1;32m----> 4\u001B[0m req \u001B[38;5;241m=\u001B[39m \u001B[43mrequests\u001B[49m\u001B[38;5;241;43m.\u001B[39;49m\u001B[43mget\u001B[49m\u001B[43m(\u001B[49m\u001B[43mlink\u001B[49m\u001B[43m,\u001B[49m\u001B[43m \u001B[49m\u001B[43mheaders\u001B[49m\u001B[38;5;241;43m=\u001B[39;49m\u001B[43mheaders\u001B[49m\u001B[43m)\u001B[49m\u001B[38;5;241m.\u001B[39mtext\n\u001B[0;32m      5\u001B[0m soup \u001B[38;5;241m=\u001B[39m BeautifulSoup(req, \u001B[38;5;124m'\u001B[39m\u001B[38;5;124mlxml\u001B[39m\u001B[38;5;124m'\u001B[39m)\n\u001B[0;32m      6\u001B[0m \u001B[38;5;28;01mreturn\u001B[39;00m soup\n",
      "File \u001B[1;32md:\\10.programming\\python\\projects\\jut.su\\venv\\lib\\site-packages\\requests\\api.py:75\u001B[0m, in \u001B[0;36mget\u001B[1;34m(url, params, **kwargs)\u001B[0m\n\u001B[0;32m     64\u001B[0m \u001B[38;5;28;01mdef\u001B[39;00m \u001B[38;5;21mget\u001B[39m(url, params\u001B[38;5;241m=\u001B[39m\u001B[38;5;28;01mNone\u001B[39;00m, \u001B[38;5;241m*\u001B[39m\u001B[38;5;241m*\u001B[39mkwargs):\n\u001B[0;32m     65\u001B[0m     \u001B[38;5;124mr\u001B[39m\u001B[38;5;124;03m\"\"\"Sends a GET request.\u001B[39;00m\n\u001B[0;32m     66\u001B[0m \n\u001B[0;32m     67\u001B[0m \u001B[38;5;124;03m    :param url: URL for the new :class:`Request` object.\u001B[39;00m\n\u001B[1;32m   (...)\u001B[0m\n\u001B[0;32m     72\u001B[0m \u001B[38;5;124;03m    :rtype: requests.Response\u001B[39;00m\n\u001B[0;32m     73\u001B[0m \u001B[38;5;124;03m    \"\"\"\u001B[39;00m\n\u001B[1;32m---> 75\u001B[0m     \u001B[38;5;28;01mreturn\u001B[39;00m request(\u001B[38;5;124m'\u001B[39m\u001B[38;5;124mget\u001B[39m\u001B[38;5;124m'\u001B[39m, url, params\u001B[38;5;241m=\u001B[39mparams, \u001B[38;5;241m*\u001B[39m\u001B[38;5;241m*\u001B[39mkwargs)\n",
      "File \u001B[1;32md:\\10.programming\\python\\projects\\jut.su\\venv\\lib\\site-packages\\requests\\api.py:61\u001B[0m, in \u001B[0;36mrequest\u001B[1;34m(method, url, **kwargs)\u001B[0m\n\u001B[0;32m     57\u001B[0m \u001B[38;5;66;03m# By using the 'with' statement we are sure the session is closed, thus we\u001B[39;00m\n\u001B[0;32m     58\u001B[0m \u001B[38;5;66;03m# avoid leaving sockets open which can trigger a ResourceWarning in some\u001B[39;00m\n\u001B[0;32m     59\u001B[0m \u001B[38;5;66;03m# cases, and look like a memory leak in others.\u001B[39;00m\n\u001B[0;32m     60\u001B[0m \u001B[38;5;28;01mwith\u001B[39;00m sessions\u001B[38;5;241m.\u001B[39mSession() \u001B[38;5;28;01mas\u001B[39;00m session:\n\u001B[1;32m---> 61\u001B[0m     \u001B[38;5;28;01mreturn\u001B[39;00m session\u001B[38;5;241m.\u001B[39mrequest(method\u001B[38;5;241m=\u001B[39mmethod, url\u001B[38;5;241m=\u001B[39murl, \u001B[38;5;241m*\u001B[39m\u001B[38;5;241m*\u001B[39mkwargs)\n",
      "File \u001B[1;32md:\\10.programming\\python\\projects\\jut.su\\venv\\lib\\site-packages\\requests\\sessions.py:515\u001B[0m, in \u001B[0;36mSession.request\u001B[1;34m(self, method, url, params, data, headers, cookies, files, auth, timeout, allow_redirects, proxies, hooks, stream, verify, cert, json)\u001B[0m\n\u001B[0;32m    502\u001B[0m \u001B[38;5;66;03m# Create the Request.\u001B[39;00m\n\u001B[0;32m    503\u001B[0m req \u001B[38;5;241m=\u001B[39m Request(\n\u001B[0;32m    504\u001B[0m     method\u001B[38;5;241m=\u001B[39mmethod\u001B[38;5;241m.\u001B[39mupper(),\n\u001B[0;32m    505\u001B[0m     url\u001B[38;5;241m=\u001B[39murl,\n\u001B[1;32m   (...)\u001B[0m\n\u001B[0;32m    513\u001B[0m     hooks\u001B[38;5;241m=\u001B[39mhooks,\n\u001B[0;32m    514\u001B[0m )\n\u001B[1;32m--> 515\u001B[0m prep \u001B[38;5;241m=\u001B[39m \u001B[38;5;28;43mself\u001B[39;49m\u001B[38;5;241;43m.\u001B[39;49m\u001B[43mprepare_request\u001B[49m\u001B[43m(\u001B[49m\u001B[43mreq\u001B[49m\u001B[43m)\u001B[49m\n\u001B[0;32m    517\u001B[0m proxies \u001B[38;5;241m=\u001B[39m proxies \u001B[38;5;129;01mor\u001B[39;00m {}\n\u001B[0;32m    519\u001B[0m settings \u001B[38;5;241m=\u001B[39m \u001B[38;5;28mself\u001B[39m\u001B[38;5;241m.\u001B[39mmerge_environment_settings(\n\u001B[0;32m    520\u001B[0m     prep\u001B[38;5;241m.\u001B[39murl, proxies, stream, verify, cert\n\u001B[0;32m    521\u001B[0m )\n",
      "File \u001B[1;32md:\\10.programming\\python\\projects\\jut.su\\venv\\lib\\site-packages\\requests\\sessions.py:443\u001B[0m, in \u001B[0;36mSession.prepare_request\u001B[1;34m(self, request)\u001B[0m\n\u001B[0;32m    440\u001B[0m     auth \u001B[38;5;241m=\u001B[39m get_netrc_auth(request\u001B[38;5;241m.\u001B[39murl)\n\u001B[0;32m    442\u001B[0m p \u001B[38;5;241m=\u001B[39m PreparedRequest()\n\u001B[1;32m--> 443\u001B[0m \u001B[43mp\u001B[49m\u001B[38;5;241;43m.\u001B[39;49m\u001B[43mprepare\u001B[49m\u001B[43m(\u001B[49m\n\u001B[0;32m    444\u001B[0m \u001B[43m    \u001B[49m\u001B[43mmethod\u001B[49m\u001B[38;5;241;43m=\u001B[39;49m\u001B[43mrequest\u001B[49m\u001B[38;5;241;43m.\u001B[39;49m\u001B[43mmethod\u001B[49m\u001B[38;5;241;43m.\u001B[39;49m\u001B[43mupper\u001B[49m\u001B[43m(\u001B[49m\u001B[43m)\u001B[49m\u001B[43m,\u001B[49m\n\u001B[0;32m    445\u001B[0m \u001B[43m    \u001B[49m\u001B[43murl\u001B[49m\u001B[38;5;241;43m=\u001B[39;49m\u001B[43mrequest\u001B[49m\u001B[38;5;241;43m.\u001B[39;49m\u001B[43murl\u001B[49m\u001B[43m,\u001B[49m\n\u001B[0;32m    446\u001B[0m \u001B[43m    \u001B[49m\u001B[43mfiles\u001B[49m\u001B[38;5;241;43m=\u001B[39;49m\u001B[43mrequest\u001B[49m\u001B[38;5;241;43m.\u001B[39;49m\u001B[43mfiles\u001B[49m\u001B[43m,\u001B[49m\n\u001B[0;32m    447\u001B[0m \u001B[43m    \u001B[49m\u001B[43mdata\u001B[49m\u001B[38;5;241;43m=\u001B[39;49m\u001B[43mrequest\u001B[49m\u001B[38;5;241;43m.\u001B[39;49m\u001B[43mdata\u001B[49m\u001B[43m,\u001B[49m\n\u001B[0;32m    448\u001B[0m \u001B[43m    \u001B[49m\u001B[43mjson\u001B[49m\u001B[38;5;241;43m=\u001B[39;49m\u001B[43mrequest\u001B[49m\u001B[38;5;241;43m.\u001B[39;49m\u001B[43mjson\u001B[49m\u001B[43m,\u001B[49m\n\u001B[0;32m    449\u001B[0m \u001B[43m    \u001B[49m\u001B[43mheaders\u001B[49m\u001B[38;5;241;43m=\u001B[39;49m\u001B[43mmerge_setting\u001B[49m\u001B[43m(\u001B[49m\u001B[43mrequest\u001B[49m\u001B[38;5;241;43m.\u001B[39;49m\u001B[43mheaders\u001B[49m\u001B[43m,\u001B[49m\u001B[43m \u001B[49m\u001B[38;5;28;43mself\u001B[39;49m\u001B[38;5;241;43m.\u001B[39;49m\u001B[43mheaders\u001B[49m\u001B[43m,\u001B[49m\u001B[43m \u001B[49m\u001B[43mdict_class\u001B[49m\u001B[38;5;241;43m=\u001B[39;49m\u001B[43mCaseInsensitiveDict\u001B[49m\u001B[43m)\u001B[49m\u001B[43m,\u001B[49m\n\u001B[0;32m    450\u001B[0m \u001B[43m    \u001B[49m\u001B[43mparams\u001B[49m\u001B[38;5;241;43m=\u001B[39;49m\u001B[43mmerge_setting\u001B[49m\u001B[43m(\u001B[49m\u001B[43mrequest\u001B[49m\u001B[38;5;241;43m.\u001B[39;49m\u001B[43mparams\u001B[49m\u001B[43m,\u001B[49m\u001B[43m \u001B[49m\u001B[38;5;28;43mself\u001B[39;49m\u001B[38;5;241;43m.\u001B[39;49m\u001B[43mparams\u001B[49m\u001B[43m)\u001B[49m\u001B[43m,\u001B[49m\n\u001B[0;32m    451\u001B[0m \u001B[43m    \u001B[49m\u001B[43mauth\u001B[49m\u001B[38;5;241;43m=\u001B[39;49m\u001B[43mmerge_setting\u001B[49m\u001B[43m(\u001B[49m\u001B[43mauth\u001B[49m\u001B[43m,\u001B[49m\u001B[43m \u001B[49m\u001B[38;5;28;43mself\u001B[39;49m\u001B[38;5;241;43m.\u001B[39;49m\u001B[43mauth\u001B[49m\u001B[43m)\u001B[49m\u001B[43m,\u001B[49m\n\u001B[0;32m    452\u001B[0m \u001B[43m    \u001B[49m\u001B[43mcookies\u001B[49m\u001B[38;5;241;43m=\u001B[39;49m\u001B[43mmerged_cookies\u001B[49m\u001B[43m,\u001B[49m\n\u001B[0;32m    453\u001B[0m \u001B[43m    \u001B[49m\u001B[43mhooks\u001B[49m\u001B[38;5;241;43m=\u001B[39;49m\u001B[43mmerge_hooks\u001B[49m\u001B[43m(\u001B[49m\u001B[43mrequest\u001B[49m\u001B[38;5;241;43m.\u001B[39;49m\u001B[43mhooks\u001B[49m\u001B[43m,\u001B[49m\u001B[43m \u001B[49m\u001B[38;5;28;43mself\u001B[39;49m\u001B[38;5;241;43m.\u001B[39;49m\u001B[43mhooks\u001B[49m\u001B[43m)\u001B[49m\u001B[43m,\u001B[49m\n\u001B[0;32m    454\u001B[0m \u001B[43m\u001B[49m\u001B[43m)\u001B[49m\n\u001B[0;32m    455\u001B[0m \u001B[38;5;28;01mreturn\u001B[39;00m p\n",
      "File \u001B[1;32md:\\10.programming\\python\\projects\\jut.su\\venv\\lib\\site-packages\\requests\\models.py:318\u001B[0m, in \u001B[0;36mPreparedRequest.prepare\u001B[1;34m(self, method, url, headers, files, data, params, auth, cookies, hooks, json)\u001B[0m\n\u001B[0;32m    315\u001B[0m \u001B[38;5;124;03m\"\"\"Prepares the entire request with the given parameters.\"\"\"\u001B[39;00m\n\u001B[0;32m    317\u001B[0m \u001B[38;5;28mself\u001B[39m\u001B[38;5;241m.\u001B[39mprepare_method(method)\n\u001B[1;32m--> 318\u001B[0m \u001B[38;5;28;43mself\u001B[39;49m\u001B[38;5;241;43m.\u001B[39;49m\u001B[43mprepare_url\u001B[49m\u001B[43m(\u001B[49m\u001B[43murl\u001B[49m\u001B[43m,\u001B[49m\u001B[43m \u001B[49m\u001B[43mparams\u001B[49m\u001B[43m)\u001B[49m\n\u001B[0;32m    319\u001B[0m \u001B[38;5;28mself\u001B[39m\u001B[38;5;241m.\u001B[39mprepare_headers(headers)\n\u001B[0;32m    320\u001B[0m \u001B[38;5;28mself\u001B[39m\u001B[38;5;241m.\u001B[39mprepare_cookies(cookies)\n",
      "File \u001B[1;32md:\\10.programming\\python\\projects\\jut.su\\venv\\lib\\site-packages\\requests\\models.py:392\u001B[0m, in \u001B[0;36mPreparedRequest.prepare_url\u001B[1;34m(self, url, params)\u001B[0m\n\u001B[0;32m    389\u001B[0m     error \u001B[38;5;241m=\u001B[39m (\u001B[38;5;124m\"\u001B[39m\u001B[38;5;124mInvalid URL \u001B[39m\u001B[38;5;132;01m{0!r}\u001B[39;00m\u001B[38;5;124m: No scheme supplied. Perhaps you meant http://\u001B[39m\u001B[38;5;132;01m{0}\u001B[39;00m\u001B[38;5;124m?\u001B[39m\u001B[38;5;124m\"\u001B[39m)\n\u001B[0;32m    390\u001B[0m     error \u001B[38;5;241m=\u001B[39m error\u001B[38;5;241m.\u001B[39mformat(to_native_string(url, \u001B[38;5;124m'\u001B[39m\u001B[38;5;124mutf8\u001B[39m\u001B[38;5;124m'\u001B[39m))\n\u001B[1;32m--> 392\u001B[0m     \u001B[38;5;28;01mraise\u001B[39;00m MissingSchema(error)\n\u001B[0;32m    394\u001B[0m \u001B[38;5;28;01mif\u001B[39;00m \u001B[38;5;129;01mnot\u001B[39;00m host:\n\u001B[0;32m    395\u001B[0m     \u001B[38;5;28;01mraise\u001B[39;00m InvalidURL(\u001B[38;5;124m\"\u001B[39m\u001B[38;5;124mInvalid URL \u001B[39m\u001B[38;5;132;01m%r\u001B[39;00m\u001B[38;5;124m: No host supplied\u001B[39m\u001B[38;5;124m\"\u001B[39m \u001B[38;5;241m%\u001B[39m url)\n",
      "\u001B[1;31mMissingSchema\u001B[0m: Invalid URL '': No scheme supplied. Perhaps you meant http://?"
     ]
    }
   ],
   "source": [
    "def main(loadlist):\n",
    "    soup = get_data()\n",
    "    title, links = get_links(soup)\n",
    "    data = create(links, title)\n",
    "    ask_user(data, loadlist)\n",
    "    load(loadlist)\n",
    "\n",
    "\n",
    "if __name__ == '__main__':\n",
    "    loadlist = []\n",
    "    main(loadlist)"
   ],
   "metadata": {
    "collapsed": false,
    "pycharm": {
     "name": "#%%\n"
    }
   }
  }
 ],
 "metadata": {
  "kernelspec": {
   "display_name": "Python 3",
   "language": "python",
   "name": "python3"
  },
  "language_info": {
   "codemirror_mode": {
    "name": "ipython",
    "version": 2
   },
   "file_extension": ".py",
   "mimetype": "text/x-python",
   "name": "python",
   "nbconvert_exporter": "python",
   "pygments_lexer": "ipython2",
   "version": "2.7.6"
  }
 },
 "nbformat": 4,
 "nbformat_minor": 0
}