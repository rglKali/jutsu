{
 "cells": [
  {
   "cell_type": "code",
   "execution_count": 29,
   "metadata": {
    "collapsed": true
   },
   "outputs": [],
   "source": [
    "import requests\n",
    "from bs4 import BeautifulSoup\n",
    "import os"
   ]
  },
  {
   "cell_type": "code",
   "execution_count": 30,
   "outputs": [],
   "source": [
    "def get_data():\n",
    "    link = input('Введите ссылку с главной странички на jut.su нужного вам аниме - ')\n",
    "    headers = {'user-agent': 'Mozilla/5.0 (Windows NT 10.0; WOW64) AppleWebKit/537.36 (KHTML, like Gecko) Chrome/98.0.4758.109 Safari/537.36 OPR/84.0.4316.42 (Edition avira-2)'}\n",
    "    req = requests.get(link, headers=headers).text\n",
    "    site = open('site.html', 'w')\n",
    "    site.write(req)\n",
    "    site = open('site.html', 'r')\n",
    "    soup = BeautifulSoup(site, 'lxml')\n",
    "    return soup"
   ],
   "metadata": {
    "collapsed": false,
    "pycharm": {
     "name": "#%%\n"
    }
   }
  },
  {
   "cell_type": "code",
   "execution_count": 31,
   "outputs": [],
   "source": [
    "def get_links(soup):\n",
    "\n",
    "    episodes = []\n",
    "    black = soup.find_all(class_='short-btn black video the_hildi')\n",
    "    green = soup.find_all(class_='short-btn green video the_hildi')\n",
    "    for i in black:\n",
    "        episodes.append(str(i))\n",
    "    for i in green:\n",
    "        episodes.append(str(i))\n",
    "\n",
    "    links = []\n",
    "    for i in episodes:\n",
    "        start = 0\n",
    "        finish = 0\n",
    "        for h in range(5, len(i)):\n",
    "            if i[h-4:h] == 'href':\n",
    "                start = h+3\n",
    "            if i[h-4:h] == 'html':\n",
    "                finish = h\n",
    "        link = 'https://jut.su/' + i[start:finish]\n",
    "        links.append(link)\n",
    "\n",
    "    season = soup.find_all(class_='b-b-title the-anime-season center')\n",
    "    name = soup.find_all('title')\n",
    "    if len(season) > 0:\n",
    "        title = str(name[0])[16:-37]\n",
    "    else:\n",
    "        title = str(name[0])[16:-28]\n",
    "\n",
    "    return title, links"
   ],
   "metadata": {
    "collapsed": false,
    "pycharm": {
     "name": "#%%\n"
    }
   }
  },
  {
   "cell_type": "code",
   "execution_count": 32,
   "outputs": [],
   "source": [
    "def create(links, title):\n",
    "    content = []\n",
    "    for i in links:\n",
    "        video = {\n",
    "            'title': title,\n",
    "            'season': 0,\n",
    "            'episode': 0,\n",
    "            'link': '',\n",
    "            'res': 1080\n",
    "        }\n",
    "        for h in range(5, len(i)):\n",
    "            if i[h-4:h] == 'film':\n",
    "                video['season'] = 0\n",
    "                video['episode'] = int(i[h+1])\n",
    "            if i[h-7:h] == 'episode' and i[h-9] == '-':\n",
    "                video['season'] = int(i[h-9])\n",
    "                x = ''\n",
    "                while x[-1] != '.':\n",
    "                    x += i[h] + i[h+len(x)]\n",
    "                video['episode'] = int(x[1:-1])\n",
    "            elif i[h-7:h] == 'episode' and i[h-9] != '-':\n",
    "                video['season'] = 1\n",
    "                x = i[h]\n",
    "                while x[-1] != '.':\n",
    "                    x += i[h+len(x)]\n",
    "                video['episode'] = int(x[1:-1])\n",
    "            video['link'] = i\n",
    "        content.append(video)\n",
    "    return content"
   ],
   "metadata": {
    "collapsed": false,
    "pycharm": {
     "name": "#%%\n"
    }
   }
  },
  {
   "cell_type": "code",
   "execution_count": 33,
   "outputs": [],
   "source": [
    "def ask_user(data, loadlist):\n",
    "    categories = []\n",
    "    for i in data:\n",
    "        if i['season'] not in categories:\n",
    "            categories.append(i['season'])\n",
    "    #print(categories)\n",
    "    if 0 in categories:\n",
    "        file = input(f'''Какой сезон вы хотите скачать?\n",
    "        Для скачивания доступно {len(categories)-1} сезонов и\n",
    "        полнометражные фильмы (Сезон 0)\n",
    "        Введите номер нужного сезона\n",
    "        Чтобы скачать все сезоны сразу, введите 'all' (не рекомендуется)''')\n",
    "    else:\n",
    "        file = input(f'''Какой сезон вы хотите скачать?\n",
    "        Для скачивания доступно {len(categories)} сезонов\n",
    "        Введите номер нужного сезона\n",
    "        Чтобы скачать все сезоны сразу, введите 'all' (не рекомендуется)''')\n",
    "\n",
    "    if file == 'all':\n",
    "        for i in data:\n",
    "            if i not in loadlist:\n",
    "                loadlist.append(i)\n",
    "    else:\n",
    "        episodes = []\n",
    "        for i in data:\n",
    "            if i['season'] == int(file):\n",
    "                episodes.append(i)\n",
    "        file = input(f'''Какую серию вы хотите скачать?\n",
    "        Для скачивания доступно {len(episodes)} серий\n",
    "        Введите номер нужной серии\n",
    "        Чтобы скачать все серии сразу, введите 'all' (не рекомендуется)''')\n",
    "        if file == 'all':\n",
    "            for i in episodes:\n",
    "                if i not in loadlist:\n",
    "                    loadlist.append(i)\n",
    "        else:\n",
    "            for i in episodes:\n",
    "                if i['episode'] == int(file) and i not in loadlist:\n",
    "                    loadlist.append(i)\n",
    "    re = input('''Хотите скачать что-либо ещё? (+/-)''')\n",
    "    if re == '+':\n",
    "        main(loadlist)\n",
    "    elif re == '-':\n",
    "        return loadlist\n",
    "    else:\n",
    "        print('Error')"
   ],
   "metadata": {
    "collapsed": false,
    "pycharm": {
     "name": "#%%\n"
    }
   }
  },
  {
   "cell_type": "code",
   "execution_count": 34,
   "outputs": [],
   "source": [
    "def load(loadlist):\n",
    "    for i in loadlist:\n",
    "        headers = {'user-agent': 'Mozilla/5.0 (Windows NT 10.0; WOW64) AppleWebKit/537.36 (KHTML, like Gecko) Chrome/98.0.4758.109 Safari/537.36 OPR/84.0.4316.42 (Edition avira-2)'}\n",
    "        req = requests.get(i['link'], headers=headers).text\n",
    "        soup = BeautifulSoup(req, 'lxml')\n",
    "        direct = str(soup.find('source'))[48:-20]\n",
    "\n",
    "        if not os.path.exists(f'./{i[\"title\"]}'):\n",
    "            os.mkdir(f'./{i[\"title\"]}')\n",
    "        if not os.path.exists(f'./{i[\"title\"]}/Сезон {i[\"season\"]}'):\n",
    "            os.mkdir(f'./{i[\"title\"]}/Сезон {i[\"season\"]}')\n",
    "\n",
    "        if not os.path.exists(f'{i[\"title\"]}/Сезон {i[\"season\"]}/Серия {i[\"episode\"]}.mp4'):\n",
    "            r = requests.get(direct, headers=headers)\n",
    "            open(f'{i[\"title\"]}/Сезон {i[\"season\"]}/Серия {i[\"episode\"]}.mp4', 'wb').write(r.content)\n",
    "            print(f'Файл \"{i[\"title\"]}, Сезон {i[\"season\"]}, Серия {i[\"episode\"]}\" успешно загружен. Осталось загрузить {len(loadlist) - loadlist.index(i) - 1} файлов из {len(loadlist)}')\n",
    "        else:\n",
    "            print(f'Файл \"{i[\"title\"]}, Сезон {i[\"season\"]}, Серия {i[\"episode\"]}\" и так был загружен. Осталось загрузить {len(loadlist) - loadlist.index(i) - 1} файлов из {len(loadlist)}')"
   ],
   "metadata": {
    "collapsed": false,
    "pycharm": {
     "name": "#%%\n"
    }
   }
  },
  {
   "cell_type": "code",
   "execution_count": null,
   "outputs": [
    {
     "name": "stdout",
     "output_type": "stream",
     "text": [
      "https://r58.kujo-jotaro.com/takt-op-destiny/1.1080.9263234167051471.mp4?hash1=bbd316705da22d3349a72bd48d38832c&amp;hash2=fda284fbd581095a7cc7adb245c3020c\n",
      "Файл \"Такт Опус. Судьба, Сезон 1, Серия 1\" успешно загружен. Осталось загрузить 11 файлов из 12\n",
      "https://r280101.kujo-jotaro.com/takt-op-destiny/2.1080.2ffc79867f0a5cf1.mp4?hash1=9b44bf55b5992a5483a2c39d115259b4&amp;hash2=d43479493268d68efb70c3346d2e5501\n"
     ]
    }
   ],
   "source": [
    "def main(loadlist):\n",
    "    soup = get_data()\n",
    "    title, links = get_links(soup)\n",
    "    data = create(links, title)\n",
    "    ask_user(data, loadlist)\n",
    "    load(loadlist)\n",
    "\n",
    "\n",
    "if __name__ == '__main__':\n",
    "    loadlist = []\n",
    "    main(loadlist)"
   ],
   "metadata": {
    "collapsed": false,
    "pycharm": {
     "name": "#%%\n",
     "is_executing": true
    }
   }
  }
 ],
 "metadata": {
  "kernelspec": {
   "display_name": "Python 3",
   "language": "python",
   "name": "python3"
  },
  "language_info": {
   "codemirror_mode": {
    "name": "ipython",
    "version": 2
   },
   "file_extension": ".py",
   "mimetype": "text/x-python",
   "name": "python",
   "nbconvert_exporter": "python",
   "pygments_lexer": "ipython2",
   "version": "2.7.6"
  }
 },
 "nbformat": 4,
 "nbformat_minor": 0
}